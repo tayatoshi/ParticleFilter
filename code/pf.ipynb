{
 "cells": [
  {
   "cell_type": "code",
   "execution_count": null,
   "metadata": {},
   "outputs": [],
   "source": [
    "import numpy as np\n",
    "import pandas as pd\n",
    "import matplotlib.pyplot as plt\n",
    "plt.style.use('ggplot')\n",
    "\n",
    "pddata=pd.read_csv('data.csv')\n",
    "print(pddata.head())\n",
    "pddata.plot(figsize=(12,4))\n",
    "plt.show()\n",
    "data=np.array(pddata)"
   ]
  },
  {
   "cell_type": "markdown",
   "metadata": {},
   "source": [
    "### 非線形・非ガウス状態空間モデル\n",
    "$\n",
    "\\begin{align}\n",
    "x_{t}&=f_{t}(x_{t-1},\\upsilon_{t})\\\\\n",
    "y_{t}&=h_{t}(x_{t},\\omega_{t})\n",
    "\\end{align}\n",
    "$"
   ]
  },
  {
   "cell_type": "code",
   "execution_count": null,
   "metadata": {
    "collapsed": true
   },
   "outputs": [],
   "source": [
    "class ParticleFilter:\n",
    "    def __init__(self,y,n_particle,upsilon2,omega2):\n",
    "        self.y=y\n",
    "        self.length=len(y)\n",
    "        self.length_of_time=len(y)\n",
    "        self.n_particle=n_particle\n",
    "        self.upsilon2=upsilon2\n",
    "        self.omega2=omega2\n",
    "        self.filtered_value = np.zeros(self.length)\n",
    "        print('OK!!')\n",
    "        \n",
    "    def init_particle(self):\n",
    "        # x(i)_0|0\n",
    "        particles = []\n",
    "        predicts = []\n",
    "        init=np.random.uniform(-2,2,self.n_particle)\n",
    "        particles.append(init)\n",
    "        predicts.append(init)\n",
    "        return({'particles':particles,'predicts':predicts})\n",
    "    \n",
    "    def get_likelihood(self,ensemble,t):\n",
    "        #今回は正規分布を仮定\n",
    "        likelihoodes=(1/np.sqrt(2*np.pi*self.omega2))*np.exp((-1/(2*self.omega2))*((self.y[t]-ensemble[t])**2))\n",
    "        return(likelihoodes)\n",
    "    \n",
    "    def one_predict(self,ensemble,t):\n",
    "        # x(i)_t|t-1\n",
    "        noise=np.random.normal(0,np.sqrt(self.upsilon2),self.n_particle)\n",
    "        predict=ensemble[t]+noise\n",
    "        return(predict)\n",
    "    \n",
    "    def filtering(self,ensemble,t):\n",
    "        # x(i)_t|t\n",
    "        likelihood=self.get_likelihood(ensemble,t)\n",
    "        beta=likelihood/likelihood.sum()\n",
    "        #print('beta',beta)\n",
    "        filtering_value=np.sum(beta*ensemble[t])\n",
    "        return({'beta':beta,'filtering_value':filtering_value})\n",
    "    \n",
    "    def resumpling(self,ensemble,weight):\n",
    "        sample=np.zeros(self.n_particle)\n",
    "        for i in range(self.n_particle):\n",
    "            sample[i]=np.random.choice(ensemble,p=weight)\n",
    "        return(sample)\n",
    "    \n",
    "    def simulate(self,seed=123):\n",
    "        np.random.seed(seed)\n",
    "        particles=self.init_particle()['particles']\n",
    "        predicts=self.init_particle()['predicts']\n",
    "        filtered_value=np.zeros(self.length)\n",
    "        filtered_value[0]=np.sum(particles[0])/self.n_particle\n",
    "        for t in np.arange(1,self.length):\n",
    "            print(\"\\r calculating... t={}\".format(t), end=\"\")\n",
    "            #一期先予測\n",
    "            predicts.append(self.one_predict(particles,t-1))\n",
    "            #フィルタリング\n",
    "            filtered=self.filtering(predicts,t-1)\n",
    "            filtered_value[t]=filtered['filtering_value']\n",
    "            resumple=self.resumpling(predicts[t-1],filtered['beta'])\n",
    "            particles.append(resumple)\n",
    "        return({'particles':particles,'predicts':predicts,'filtered_value':filtered_value})"
   ]
  },
  {
   "cell_type": "code",
   "execution_count": null,
   "metadata": {},
   "outputs": [],
   "source": [
    "model=ParticleFilter(data,5000,(2**-2)*(10**-1),2**-2)"
   ]
  },
  {
   "cell_type": "code",
   "execution_count": null,
   "metadata": {},
   "outputs": [],
   "source": [
    "result=model.simulate()"
   ]
  },
  {
   "cell_type": "code",
   "execution_count": null,
   "metadata": {},
   "outputs": [],
   "source": [
    "plt.figure(figsize=(20,9))\n",
    "for i in range(len(pddata)):\n",
    "    if i==0:\n",
    "        plt.scatter(np.zeros(len(result['particles'][i]))+i,result['particles'][i],s=1,color='red',alpha=0.1,label='particle')\n",
    "    plt.scatter(np.zeros(len(result['particles'][i]))+i,result['particles'][i],s=1,color='red',alpha=0.1)\n",
    "plt.plot(pddata,color='blue',label='y')\n",
    "plt.plot(result['filtered_value'],color='green',label='estimate')\n",
    "plt.legend()\n",
    "plt.title('particles = {}, upsilon2 = {}, omega2 = {}'.format(model.n_particle,model.upsilon2,model.omega2))\n",
    "plt.show()"
   ]
  },
  {
   "cell_type": "code",
   "execution_count": null,
   "metadata": {
    "collapsed": true
   },
   "outputs": [],
   "source": []
  }
 ],
 "metadata": {
  "kernelspec": {
   "display_name": "Python 3",
   "language": "python",
   "name": "python3"
  },
  "language_info": {
   "codemirror_mode": {
    "name": "ipython",
    "version": 3
   },
   "file_extension": ".py",
   "mimetype": "text/x-python",
   "name": "python",
   "nbconvert_exporter": "python",
   "pygments_lexer": "ipython3",
   "version": "3.6.0"
  }
 },
 "nbformat": 4,
 "nbformat_minor": 2
}
